{
 "cells": [
  {
   "cell_type": "code",
   "execution_count": 14,
   "id": "63bbe8e3-4d50-4240-b473-a7ad8dfad902",
   "metadata": {
    "ExecuteTime": {
     "end_time": "2023-05-22T13:41:44.463446108Z",
     "start_time": "2023-05-22T13:41:44.441430445Z"
    }
   },
   "outputs": [],
   "source": [
    "import os\n",
    "import json\n",
    "import re\n",
    "\n",
    "import matplotlib\n",
    "import matplotlib.pyplot as plt\n",
    "from matplotlib.ticker import (AutoMinorLocator, MultipleLocator)\n",
    "\n",
    "plt.rcParams['figure.figsize'] = [6.9,2.3]\n",
    "\n",
    "import numpy as np"
   ]
  },
  {
   "cell_type": "code",
   "execution_count": 15,
   "id": "027a8551",
   "metadata": {
    "ExecuteTime": {
     "end_time": "2023-05-22T13:41:44.494465404Z",
     "start_time": "2023-05-22T13:41:44.490620436Z"
    }
   },
   "outputs": [],
   "source": [
    "matplotlib.rcParams['pdf.fonttype'] = 42\n",
    "matplotlib.rcParams['ps.fonttype'] = 42\n",
    "matplotlib.rcParams['font.family'] = 'Arial'\n",
    "# matplotlib.rcParams['lines.marker']  #None\n",
    "matplotlib.rcParams['lines.markersize'] = 2 #6.0\n",
    "matplotlib.rcParams['lines.linewidth'] = 1   # 1.5\n",
    "matplotlib.rcParams['figure.constrained_layout.use'] = True"
   ]
  },
  {
   "cell_type": "code",
   "execution_count": 16,
   "id": "6d344711-3707-40af-9763-afd5e0f7bf17",
   "metadata": {
    "ExecuteTime": {
     "end_time": "2023-05-22T13:41:44.494878642Z",
     "start_time": "2023-05-22T13:41:44.490839984Z"
    }
   },
   "outputs": [],
   "source": [
    "def show_result_distance(distance, accuracy, \n",
    "                        target_png_path=None, title = \"\", guessing_level_percent=None,\n",
    "                        ax=None, label=\"Test accuracy\",\n",
    "                        plot_legend=True, color=None):\n",
    "    \"\"\"\n",
    "    This method plots the end result for the main_distance script.\n",
    "    \"\"\"\n",
    "    if ax is None:\n",
    "        fig, ax = plt.subplots()\n",
    "    \n",
    "    # Set the grid\n",
    "    max_distance = np.max(distance)\n",
    "    ax.set_ylim([20, 100])\n",
    "    ax.set_xlim([-0.1, max_distance + 1])\n",
    "\n",
    "    ax.xaxis.set_major_locator(MultipleLocator(2))\n",
    "    #ax.yaxis.set_major_locator(MultipleLocator(20))\n",
    "\n",
    "    ax.xaxis.set_minor_locator(AutoMinorLocator(2))\n",
    "    #ax.yaxis.set_minor_locator(AutoMinorLocator(2))\n",
    "\n",
    "    axesthickness = 1\n",
    "\n",
    "    ax.xaxis.set_tick_params(which='major', size=3, width=axesthickness, direction='in', top='on')\n",
    "    ax.xaxis.set_tick_params(which='minor', size=2, width=axesthickness, direction='in', top='on')\n",
    "    ax.yaxis.set_tick_params(which='major', size=3, width=axesthickness, direction='in', right='on')\n",
    "    ax.yaxis.set_tick_params(which='minor', size=2, width=axesthickness, direction='in', right='on')\n",
    "\n",
    "    ax.grid(which='major', color='#CCCCCC')\n",
    "    ax.grid(which='minor', color='#CCCCCC')\n",
    "    \n",
    "    print(f'{distance=}, {accuracy=}')\n",
    "    if label.lower().startswith(\"test\"):\n",
    "        average_test_acc = np.mean(accuracy, axis=1)\n",
    "        ax.plot(distance, average_test_acc, \"--\", color=color if color else \"#01665eff\") #, label=f\"avg. {label}\")\n",
    "\n",
    "        distance = np.repeat(distance.reshape((len(distance), 1)), accuracy.shape[1], axis=1)\n",
    "        line = ax.plot(distance.flatten(), accuracy.flatten() , label=label, marker='o', \n",
    "                       color=color if color else \"#01665eff\", markersize=2, linestyle=\"\")\n",
    "    else:\n",
    "        line = ax.plot(distance.flatten(), accuracy.flatten() , label=f\"{label}\", marker='o', \n",
    "                       color=color if color else \"#8c510aff\", markersize=2, linestyle=\"\")\n",
    "    if guessing_level_percent:\n",
    "        # Adds the 25% (or 50%) accuracy line\n",
    "        guessing = np.full((1000, 1), guessing_level_percent)\n",
    "        ax.plot(guessing, color=\"black\", label=\"\", linewidth=.2)\n",
    "\n",
    "    if plot_legend:\n",
    "        ax.legend(bbox_to_anchor=(1, 1), loc=1, frameon=True)\n",
    "    \n",
    "    ax.set_ylabel(\"Accuracy (%)\")\n",
    "    ax.set_xlabel(\"Distance (cm)\")\n",
    "    ax.yaxis.set_ticks([0,25,40,60,80,100])\n",
    "    #ax.set_title(title)\n",
    "\n",
    "    # change all spines\n",
    "    for axis in ['top','bottom','left','right']:\n",
    "        ax.spines[axis].set_linewidth(axesthickness)\n",
    "\n",
    "    # increase tick width\n",
    "    ax.tick_params(width=axesthickness)\n",
    "\n",
    "    font = {'family' : 'Arial',\n",
    "        'weight' : 'normal',\n",
    "        'size'   : 10}\n",
    "\n",
    "    plt.rc('font', **font)\n",
    "    \n",
    "    if target_png_path:\n",
    "        plt.savefig(target_png_path)\n",
    "        \n",
    "    return line # to allow manual legend plotting\n",
    "    \n",
    "def convert_data(dictonary):\n",
    "    accuracy = np.array(list(dictonary.values())) * 100\n",
    "    distances_from_keys = list(dictonary.keys())\n",
    "    distances_from_keys = [float(re.findall(\"\\d+\", i)[0]) for i in distances_from_keys]\n",
    "    \n",
    "    return np.array(distances_from_keys), accuracy"
   ]
  },
  {
   "cell_type": "code",
   "execution_count": 17,
   "id": "ca1fe49b-f77b-4422-a172-7eb144577936",
   "metadata": {
    "ExecuteTime": {
     "end_time": "2023-05-22T13:41:44.495096828Z",
     "start_time": "2023-05-22T13:41:44.490977185Z"
    }
   },
   "outputs": [],
   "source": [
    "def load_plotinfo_from_file(json_path):\n",
    "    with open(os.path.join(json_path), 'r') as file:\n",
    "        json_contents = json.load(file)\n",
    "        dict_test_accuracies = json_contents[\"test_accuracies\"]\n",
    "        dict_val_accuracies = json_contents[\"validation_accuracies\"]\n",
    "        try:\n",
    "            n_classes = json_contents['n_classes']\n",
    "        except:\n",
    "            print(f\"Warning. Failed to interpret n_classes from json file! Set to default.\")\n",
    "            n_classes = 0\n",
    "        guessing_level_percent = 50 if n_classes == 2 else 25\n",
    "\n",
    "    title = \"\"#f\"Information in the Distance ({n_classes} classes) from {path}\"\n",
    "    return dict_test_accuracies, dict_val_accuracies, guessing_level_percent, title"
   ]
  },
  {
   "cell_type": "markdown",
   "id": "f272666f-acd3-471f-8c45-625cdc08b769",
   "metadata": {},
   "source": [
    "# Single graph"
   ]
  },
  {
   "cell_type": "code",
   "execution_count": 18,
   "id": "ca080b30-39fe-4148-9f4e-6e5b0529bf25",
   "metadata": {
    "ExecuteTime": {
     "end_time": "2023-05-22T13:41:44.495441555Z",
     "start_time": "2023-05-22T13:41:44.491073235Z"
    }
   },
   "outputs": [
    {
     "name": "stdout",
     "output_type": "stream",
     "text": [
      "{0: 3.2508639295347765, 1: 1.0394170534642846, 2: 0.8055547641463793, 3: 0.7235330210126231, 4: 0.7095926218008161, 5: 0.6510637229621891, 6: 0.6143166076452793, 7: 0.6169434201642527, 8: 0.6619368137757553, 9: 0.5461788852817578, 10: 0.5827838969380542, 11: 0.5285320480707273, 12: 0.5102933333857654}\n"
     ]
    }
   ],
   "source": [
    "raw_std_json_path = os.path.join(\"result_files\", \"data_raw_std_20221201-1646.json\")\n",
    "with open(os.path.join(raw_std_json_path), 'r') as file:\n",
    "    json_contents = json.load(file)\n",
    "    std_data = json_contents[\"std_probe_signal\"]\n",
    "    \n",
    "std_data_to_plot_mV = {}\n",
    "for k in sorted(std_data.keys(), key=lambda kk: int(re.findall(\"(\\d+)cm\", kk)[0])):\n",
    "    std_data_to_plot_mV[int(re.findall(\"(\\d+)cm\", k)[0])] = 1e3 * std_data[k]  # V to mV conversion!\n",
    "    \n",
    "print(std_data_to_plot_mV)"
   ]
  },
  {
   "cell_type": "code",
   "execution_count": 19,
   "id": "4bf307a3-c354-4d40-92ee-4a5b95f91815",
   "metadata": {
    "ExecuteTime": {
     "end_time": "2023-05-22T13:41:44.495593250Z",
     "start_time": "2023-05-22T13:41:44.491288921Z"
    }
   },
   "outputs": [],
   "source": [
    "path = os.path.join(\"result_files\", \"result_TEMPEST_20230111-1723.json\")\n",
    "\n",
    "dict_test_accuracies, dict_val_accuracies, guessing_level_percent1, title1 = load_plotinfo_from_file(path)"
   ]
  },
  {
   "cell_type": "code",
   "execution_count": 20,
   "id": "301626aa-b0b7-46a7-861c-6144a1d446e8",
   "metadata": {
    "ExecuteTime": {
     "end_time": "2023-05-22T13:41:44.753079482Z",
     "start_time": "2023-05-22T13:41:44.538470190Z"
    }
   },
   "outputs": [
    {
     "name": "stdout",
     "output_type": "stream",
     "text": [
      "0cm: mean best percentile = [1.0, 1.0, 1.0]\n",
      "1cm: mean best percentile = [0.9540816326530612, 0.9489795918367347, 0.9438775510204082]\n",
      "2cm: mean best percentile = [0.6683673469387754, 0.6989795918367346, 0.7346938775510203]\n",
      "3cm: mean best percentile = [0.5612244897959183, 0.5153061224489796, 0.4693877551020408]\n",
      "4cm: mean best percentile = [0.5459183673469388, 0.44387755102040816, 0.5]\n",
      "5cm: mean best percentile = [0.3520408163265306, 0.3673469387755102, 0.3928571428571429]\n",
      "6cm: mean best percentile = [0.29591836734693877, 0.3673469387755102, 0.2857142857142857]\n",
      "7cm: mean best percentile = [0.37244897959183676, 0.3010204081632653, 0.3214285714285714]\n",
      "8cm: mean best percentile = [0.28061224489795916, 0.3112244897959184, 0.326530612244898]\n",
      "9cm: mean best percentile = [0.2209576138147567, 0.32256235827664403, 0.4489795918367347]\n",
      "10cm: mean best percentile = [nan, nan, nan]\n",
      "11cm: mean best percentile = [nan, nan, nan]\n",
      "12cm: mean best percentile = [0.29081632653061223, nan, 0.23979591836734693]\n",
      "distance=array([ 0.,  1.,  2.,  3.,  4.,  5.,  6.,  7.,  8.,  9., 10., 11., 12.]), accuracy=array([[98.99934958, 99.05438535, 99.03437234],\n",
      "       [83.30915095, 83.76444689, 83.91454445],\n",
      "       [55.15084805, 55.17086106, 55.08080252],\n",
      "       [46.37014059, 45.37949667, 45.33947066],\n",
      "       [38.67513884, 38.68514534, 38.41997298],\n",
      "       [34.28728674, 34.56746885, 34.24726072],\n",
      "       [31.87071597, 32.08585581, 32.10586881],\n",
      "       [29.42412568, 29.62925902, 29.57422325],\n",
      "       [28.07825086, 28.80372242, 28.02821834],\n",
      "       [27.1026167 , 27.23270126, 27.803072  ],\n",
      "       [25.52158903, 25.52158903, 25.52158903],\n",
      "       [24.80112073, 24.80112073, 24.80112073],\n",
      "       [25.30644919, 25.52158903, 25.57162155]])\n",
      "distance=array([ 0.,  1.,  2.,  3.,  4.,  5.,  6.,  7.,  8.,  9., 10., 11., 12.]), accuracy=array([[100.        , 100.        , 100.        ],\n",
      "       [ 95.40816327,  94.89795918,  94.3877551 ],\n",
      "       [ 66.83673469,  69.89795918,  73.46938776],\n",
      "       [ 56.12244898,  51.53061224,  46.93877551],\n",
      "       [ 54.59183673,  44.3877551 ,  50.        ],\n",
      "       [ 35.20408163,  36.73469388,  39.28571429],\n",
      "       [ 29.59183673,  36.73469388,  28.57142857],\n",
      "       [ 37.24489796,  30.10204082,  32.14285714],\n",
      "       [ 28.06122449,  31.12244898,  32.65306122],\n",
      "       [ 22.09576138,  32.25623583,  44.89795918],\n",
      "       [         nan,          nan,          nan],\n",
      "       [         nan,          nan,          nan],\n",
      "       [ 29.08163265,          nan,  23.97959184]])\n"
     ]
    },
    {
     "data": {
      "text/plain": "<Figure size 690x230 with 1 Axes>",
      "image/png": "[encoded data removed]"
     },
     "metadata": {},
     "output_type": "display_data"
    }
   ],
   "source": [
    "fig, ax = plt.subplots()\n",
    "\n",
    "distances = []\n",
    "test_accuracies = []\n",
    "percentile_accuracies = []\n",
    "\n",
    "for k in dict_test_accuracies.keys():\n",
    "    distances.append(float(re.findall(\"\\d+\", k)[0]))\n",
    "    test_accuracies.append( [v['test_accuracy'] for v in dict_test_accuracies[k]])\n",
    "    symbolmean_bestpercentile_accs = [\n",
    "        np.mean(list(v['best_0.01_eq_label_proportions'].values())) \n",
    "         for v in dict_test_accuracies[k]\n",
    "    ]\n",
    "    print(f'{k}: mean best percentile = {symbolmean_bestpercentile_accs}')\n",
    "    percentile_accuracies.append(symbolmean_bestpercentile_accs)\n",
    "    \n",
    "line1 = show_result_distance(\n",
    "    np.array(distances), 100*np.array(test_accuracies), \n",
    "    title=title1,\n",
    "    guessing_level_percent=guessing_level_percent1,\n",
    "    ax=ax, label='test acc.', plot_legend=False\n",
    ")\n",
    "\n",
    "# don't plot validation acc. because it's basically equal to test acc.\n",
    "line2 = show_result_distance(\n",
    "    np.array(distances),\n",
    "    100*np.array(percentile_accuracies),\n",
    "    title=title1, \n",
    "    guessing_level_percent=guessing_level_percent1, \n",
    "    ax=ax, label='test acc. (best 1%)', plot_legend=True, color='red'\n",
    ")\n",
    "\n",
    "ax.set_ylim(0, 100)\n",
    "\n",
    "plt.savefig('./distance_best_percentile.pdf')"
   ]
  },
  {
   "cell_type": "code",
   "execution_count": 21,
   "id": "e4291b70-e4ed-4c53-bbdf-fa54e1f3edde",
   "metadata": {
    "ExecuteTime": {
     "end_time": "2023-05-22T13:41:44.911069850Z",
     "start_time": "2023-05-22T13:41:44.762341232Z"
    }
   },
   "outputs": [
    {
     "data": {
      "text/plain": "[<matplotlib.lines.Line2D at 0x7f2031a3dd50>]"
     },
     "execution_count": 21,
     "metadata": {},
     "output_type": "execute_result"
    },
    {
     "data": {
      "text/plain": "<Figure size 690x230 with 1 Axes>",
      "image/png": "[encoded data removed]"
     },
     "metadata": {},
     "output_type": "display_data"
    }
   ],
   "source": [
    "plt.plot(std_data_to_plot_mV.keys(), std_data_to_plot_mV.values(), 'o-', label=\"probe signal\")"
   ]
  },
  {
   "cell_type": "code",
   "execution_count": 22,
   "id": "171cfad8-355b-4f63-a588-2979bee9ec06",
   "metadata": {
    "ExecuteTime": {
     "end_time": "2023-05-22T13:41:44.911607097Z",
     "start_time": "2023-05-22T13:41:44.898479100Z"
    }
   },
   "outputs": [
    {
     "name": "stdout",
     "output_type": "stream",
     "text": [
      "dict_keys([0, 1, 2, 3, 4, 5, 6, 7, 8, 9, 10, 11, 12]) dict_values([3.2508639295347765, 1.0394170534642846, 0.8055547641463793, 0.7235330210126231, 0.7095926218008161, 0.6510637229621891, 0.6143166076452793, 0.6169434201642527, 0.6619368137757553, 0.5461788852817578, 0.5827838969380542, 0.5285320480707273, 0.5102933333857654])\n"
     ]
    }
   ],
   "source": [
    "print(std_data_to_plot_mV.keys(), std_data_to_plot_mV.values())"
   ]
  }
 ],
 "metadata": {
  "kernelspec": {
   "display_name": "Python 3 (ipykernel)",
   "language": "python",
   "name": "python3"
  },
  "language_info": {
   "codemirror_mode": {
    "name": "ipython",
    "version": 3
   },
   "file_extension": ".py",
   "mimetype": "text/x-python",
   "name": "python",
   "nbconvert_exporter": "python",
   "pygments_lexer": "ipython3",
   "version": "3.10.5"
  },
  "vscode": {
   "interpreter": {
    "hash": "11938c6bc6919ae2720b4d5011047913343b08a43b18698fd82dedb0d4417594"
   }
  }
 },
 "nbformat": 4,
 "nbformat_minor": 5
}
