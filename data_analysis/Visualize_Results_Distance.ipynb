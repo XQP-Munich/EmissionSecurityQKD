{
 "cells": [
  {
   "cell_type": "code",
   "execution_count": 1,
   "id": "63bbe8e3-4d50-4240-b473-a7ad8dfad902",
   "metadata": {
    "ExecuteTime": {
     "end_time": "2023-05-22T13:35:53.510406181Z",
     "start_time": "2023-05-22T13:35:53.254516144Z"
    }
   },
   "outputs": [],
   "source": [
    "import os\n",
    "import datetime\n",
    "import json\n",
    "import re\n",
    "\n",
    "import matplotlib\n",
    "import matplotlib.pyplot as plt\n",
    "from matplotlib.ticker import (AutoMinorLocator, MultipleLocator)\n",
    "#plt.rcParams['figure.figsize'] = [3.4,2.0]\n",
    "plt.rcParams['figure.figsize'] = [3.4,2.2]\n",
    "\n",
    "import numpy as np"
   ]
  },
  {
   "cell_type": "code",
   "execution_count": 2,
   "id": "027a8551",
   "metadata": {
    "ExecuteTime": {
     "end_time": "2023-05-22T13:35:53.518199166Z",
     "start_time": "2023-05-22T13:35:53.511176390Z"
    }
   },
   "outputs": [],
   "source": [
    "matplotlib.rcParams['pdf.fonttype'] = 42\n",
    "matplotlib.rcParams['ps.fonttype'] = 42\n",
    "matplotlib.rcParams['font.family'] = 'Arial'\n",
    "matplotlib.rcParams['lines.marker']  #None\n",
    "matplotlib.rcParams['lines.markersize'] = 2 #6.0\n",
    "matplotlib.rcParams['lines.linewidth'] = 1   # 1.5\n",
    "matplotlib.rcParams['figure.constrained_layout.use'] = True"
   ]
  },
  {
   "cell_type": "code",
   "execution_count": 3,
   "id": "6d344711-3707-40af-9763-afd5e0f7bf17",
   "metadata": {
    "ExecuteTime": {
     "end_time": "2023-05-22T13:35:53.525283475Z",
     "start_time": "2023-05-22T13:35:53.518653049Z"
    }
   },
   "outputs": [],
   "source": [
    "def show_result_distance(distance, accuracy, \n",
    "                        target_png_path=None, title=\"Information in the Distance\", guessing_level_percent=None,\n",
    "                        ax=None, label=\"Test accuracy\",\n",
    "                        plot_legend=True):\n",
    "    \"\"\"\n",
    "    This method plots the end result for the main_distance script.\n",
    "    \"\"\"\n",
    "    if ax is None:\n",
    "        fig, ax = plt.subplots()\n",
    "    \n",
    "    # Set the grid\n",
    "    max_distance = np.max(distance)\n",
    "    ax.set_ylim([20, 100])\n",
    "    ax.set_xlim([-0.1, max_distance + 1])\n",
    "\n",
    "    ax.xaxis.set_major_locator(MultipleLocator(2))\n",
    "    #ax.yaxis.set_major_locator(MultipleLocator(20))\n",
    "\n",
    "    ax.xaxis.set_minor_locator(AutoMinorLocator(2))\n",
    "    #ax.yaxis.set_minor_locator(AutoMinorLocator(2))\n",
    "\n",
    "    axesthickness = 1\n",
    "\n",
    "    ax.xaxis.set_tick_params(which='major', size=3, width=axesthickness, direction='in', top='on')\n",
    "    ax.xaxis.set_tick_params(which='minor', size=2, width=axesthickness, direction='in', top='on')\n",
    "    ax.yaxis.set_tick_params(which='major', size=3, width=axesthickness, direction='in', right='on')\n",
    "    ax.yaxis.set_tick_params(which='minor', size=2, width=axesthickness, direction='in', right='on')\n",
    "\n",
    "    ax.grid(which='major', color='#CCCCCC')\n",
    "    ax.grid(which='minor', color='#CCCCCC')\n",
    "    \n",
    "    print(f'{distance=}, {accuracy=}')\n",
    "    if label.lower().startswith(\"test\"):\n",
    "        average_test_acc = np.mean(accuracy, axis=1)\n",
    "        ax.plot(distance, average_test_acc, \"--\", color=\"#01665eff\") #, label=f\"avg. {label}\")\n",
    "\n",
    "        distance = np.repeat(distance.reshape((len(distance), 1)), accuracy.shape[1], axis=1)\n",
    "        line = ax.plot(distance.flatten(), accuracy.flatten() , label=label, marker='o', color=\"#01665eff\", markersize=2, linestyle=\"\")\n",
    "    else:\n",
    "        line = ax.plot(distance.flatten(), accuracy.flatten() , label=f\"{label}\", marker='o', color=\"#8c510aff\", markersize=2, linestyle=\"\")\n",
    "    if guessing_level_percent:\n",
    "        # Adds the 25% (or 50%) accuracy line\n",
    "        guessing = np.full((1000, 1), guessing_level_percent)\n",
    "        ax.plot(guessing, color=\"black\", label=\"\", linewidth=.5)\n",
    "\n",
    "    if plot_legend:\n",
    "        ax.legend(bbox_to_anchor=(1, 1), loc=1, frameon=True)\n",
    "    \n",
    "    ax.set_ylabel(\"Accuracy (%)\")\n",
    "    ax.set_xlabel(\"Distance (cm)\")\n",
    "    ax.yaxis.set_ticks([0,25,40,60,80,100])\n",
    "    #ax.set_title(title)\n",
    "\n",
    "    # change all spines\n",
    "    for axis in ['top','bottom','left','right']:\n",
    "        ax.spines[axis].set_linewidth(axesthickness)\n",
    "\n",
    "    # increase tick width\n",
    "    ax.tick_params(width=axesthickness)\n",
    "\n",
    "    font = {'family' : 'Arial',\n",
    "        'weight' : 'normal',\n",
    "        'size'   : 10}\n",
    "\n",
    "    plt.rc('font', **font)\n",
    "    \n",
    "    if target_png_path:\n",
    "        plt.savefig(target_png_path)\n",
    "        \n",
    "    return line # to allow manual legend plotting\n",
    "    \n",
    "def convert_data(dictonary):\n",
    "    accuracy = np.array(list(dictonary.values())) * 100\n",
    "    distances_from_keys = list(dictonary.keys())\n",
    "    distances_from_keys = [float(re.findall(\"\\d+\", i)[0]) for i in distances_from_keys]\n",
    "    \n",
    "    return np.array(distances_from_keys), accuracy"
   ]
  },
  {
   "cell_type": "code",
   "execution_count": 4,
   "id": "ca1fe49b-f77b-4422-a172-7eb144577936",
   "metadata": {
    "ExecuteTime": {
     "end_time": "2023-05-22T13:35:53.532096534Z",
     "start_time": "2023-05-22T13:35:53.525787855Z"
    }
   },
   "outputs": [],
   "source": [
    "def load_plotinfo_from_file(json_path):\n",
    "    with open(os.path.join(path), 'r') as file:\n",
    "        json_contents = json.load(file)\n",
    "        dict_test_accuracies = json_contents[\"test_accuracies\"]\n",
    "        dict_val_accuracies = json_contents[\"validation_accuracies\"]\n",
    "        try:\n",
    "            n_classes = json_contents['n_classes']\n",
    "        except:\n",
    "            print(f\"Warning. Failed to interpret n_classes from json file! Set to default.\")\n",
    "            n_classes = 0\n",
    "        guessing_level_percent = 50 if n_classes == 2 else 25\n",
    "\n",
    "    title = \"\"#f\"Information in the Distance ({n_classes} classes) from {path}\"\n",
    "    return dict_test_accuracies, dict_val_accuracies, guessing_level_percent, title"
   ]
  },
  {
   "cell_type": "markdown",
   "id": "f272666f-acd3-471f-8c45-625cdc08b769",
   "metadata": {},
   "source": [
    "# Single graph"
   ]
  },
  {
   "cell_type": "code",
   "execution_count": 5,
   "id": "ca080b30-39fe-4148-9f4e-6e5b0529bf25",
   "metadata": {
    "ExecuteTime": {
     "end_time": "2023-05-22T13:35:53.537403901Z",
     "start_time": "2023-05-22T13:35:53.529957736Z"
    }
   },
   "outputs": [
    {
     "name": "stdout",
     "output_type": "stream",
     "text": [
      "{0: 3.2508639295347765, 1: 1.0394170534642846, 2: 0.8055547641463793, 3: 0.7235330210126231, 4: 0.7095926218008161, 5: 0.6510637229621891, 6: 0.6143166076452793, 7: 0.6169434201642527, 8: 0.6619368137757553, 9: 0.5461788852817578, 10: 0.5827838969380542, 11: 0.5285320480707273, 12: 0.5102933333857654}\n"
     ]
    }
   ],
   "source": [
    "raw_std_json_path = './result_files/results_distance/data_raw_std_20221201-1646.json'\n",
    "with open(os.path.join(raw_std_json_path), 'r') as file:\n",
    "    json_contents = json.load(file)\n",
    "    std_data = json_contents[\"std_probe_signal\"]\n",
    "\n",
    "std_data_to_plot_mV = {}\n",
    "for k in sorted(std_data.keys(), key=lambda kk: int(re.findall(\"(\\d+)cm\", kk)[0])):\n",
    "    std_data_to_plot_mV[int(re.findall(\"(\\d+)cm\", k)[0])] = 1e3 * std_data[k]  # V to mV conversion!\n",
    "\n",
    "print(std_data_to_plot_mV)"
   ]
  },
  {
   "cell_type": "code",
   "execution_count": 6,
   "id": "4bf307a3-c354-4d40-92ee-4a5b95f91815",
   "metadata": {
    "ExecuteTime": {
     "end_time": "2023-05-22T13:35:53.579906011Z",
     "start_time": "2023-05-22T13:35:53.536785433Z"
    }
   },
   "outputs": [
    {
     "name": "stdout",
     "output_type": "stream",
     "text": [
      "Maximum difference between avg. test and validation accuracies: 1.2257974897335444\n"
     ]
    }
   ],
   "source": [
    "path = \"./result_files/results_distance/result_TEMPEST_20220705-2328.json\"\n",
    "dict_test_accuracies, dict_val_accuracies, guessing_level_percent1, title1 = load_plotinfo_from_file(path)\n",
    "\n",
    "max_difference = np.max(\n",
    "    convert_data(dict_val_accuracies)[1] -  np.mean(convert_data(dict_test_accuracies)[1], axis=1)\n",
    ")\n",
    "\n",
    "print(f\"Maximum difference between avg. test and validation accuracies: {max_difference}\")"
   ]
  },
  {
   "cell_type": "code",
   "execution_count": 7,
   "id": "301626aa-b0b7-46a7-861c-6144a1d446e8",
   "metadata": {
    "ExecuteTime": {
     "end_time": "2023-05-22T13:35:53.935861295Z",
     "start_time": "2023-05-22T13:35:53.578569018Z"
    }
   },
   "outputs": [
    {
     "name": "stderr",
     "output_type": "stream",
     "text": [
      "findfont: Font family ['Arial'] not found. Falling back to DejaVu Sans.\n"
     ]
    },
    {
     "name": "stdout",
     "output_type": "stream",
     "text": [
      "distance=array([ 0.,  1.,  2.,  3.,  4.,  5.,  6.,  7.,  8.,  9., 10., 11., 12.]), accuracy=array([[99.2895382 , 99.20948617, 99.34957723],\n",
      "       [84.33982088, 85.27042578, 84.91519488],\n",
      "       [55.00075049, 55.16085456, 55.23590334],\n",
      "       [46.3801471 , 45.13433732, 45.16435683],\n",
      "       [38.0947616 , 38.79521689, 38.65012258],\n",
      "       [34.04212738, 34.37734527, 34.27227698],\n",
      "       [31.7206184 , 31.42542653, 31.16025417],\n",
      "       [29.37409316, 29.59423625, 29.43913544],\n",
      "       [28.42847851, 28.1683094 , 27.97318257],\n",
      "       [25.52158903, 25.52158903, 25.52158903],\n",
      "       [24.80112073, 24.80112073, 24.80112073],\n",
      "       [25.52158903, 25.52158903, 25.52158903],\n",
      "       [25.49156952, 25.52158903, 25.51658578]])\n"
     ]
    },
    {
     "data": {
      "text/plain": "<Figure size 340x220 with 2 Axes>",
      "image/png": "[encoded data removed]"
     },
     "metadata": {},
     "output_type": "display_data"
    }
   ],
   "source": [
    "fig, ax = plt.subplots()\n",
    "\n",
    "line1 = show_result_distance(\n",
    "    *convert_data(dict_test_accuracies), \n",
    "    title=title1,\n",
    "    guessing_level_percent=guessing_level_percent1,\n",
    "    ax=ax, label='test acc.', plot_legend=False\n",
    ")\n",
    "\n",
    "# don't plot validation acc. because it's basically equal to test acc.\n",
    "# line2 = show_result_distance(\n",
    "#     *convert_data(dict_val_accuracies), \n",
    "#     title=title1, \n",
    "#     guessing_level_percent=guessing_level_percent1, \n",
    "#     ax=ax, label='validation acc.', plot_legend=False\n",
    "# )\n",
    "\n",
    "ax.set_ylim(0, 100)\n",
    "\n",
    "# standard deviations for binomial in random guessing\n",
    "guessing = np.full(100, 25)\n",
    "x = np.linspace(0, 13, 100)\n",
    "\n",
    "# how many standard deviations\n",
    "guessing_err = 3 * 100 * np.sqrt(20_000 * 0.25 * (1-0.25)) / 20_000\n",
    "ax.fill_between(x, guessing-guessing_err, guessing+guessing_err,facecolor='red',alpha=0.6)\n",
    "\n",
    "ax2 = ax.twinx()\n",
    "line3 = ax2.plot(std_data_to_plot_mV.keys(), std_data_to_plot_mV.values(), 'o-', label=\"probe signal ampl.\", color='grey')\n",
    "ax2.set_ylim(0., 3.5)\n",
    "\n",
    "handles,labels = [],[]\n",
    "for ax in fig.axes:\n",
    "    for h,l in zip(*ax.get_legend_handles_labels()):\n",
    "        handles.append(h)\n",
    "        labels.append(l)\n",
    "\n",
    "plt.legend(handles,labels, bbox_to_anchor=(1, 1), loc=1, frameon=True)\n",
    "\n",
    "plt.ylabel(\"RMS Amplitude (mV)\")\n",
    "\n",
    "# arrows indicating which line goes with which axis\n",
    "plt.arrow(3.5, 1.4, -1.5, 0, shape='full', linewidth=2, length_includes_head=True, head_width=.2, color=\"#01665eff\")\n",
    "plt.arrow(9.5, 0.22, 1.5, 0, shape='full', linewidth=2, length_includes_head=True, head_width=.2, color='grey')\n",
    "plt.vlines(9.5, 0.22, 0.54, colors='grey', linestyles='solid', label='', linewidth=2)\n",
    "\n",
    "plt.savefig('./distance.pdf')"
   ]
  },
  {
   "cell_type": "code",
   "execution_count": 8,
   "id": "e4291b70-e4ed-4c53-bbdf-fa54e1f3edde",
   "metadata": {
    "ExecuteTime": {
     "end_time": "2023-05-22T13:35:54.035469019Z",
     "start_time": "2023-05-22T13:35:53.949219052Z"
    }
   },
   "outputs": [
    {
     "data": {
      "text/plain": "[<matplotlib.lines.Line2D at 0x7fe2f24cc040>]"
     },
     "execution_count": 8,
     "metadata": {},
     "output_type": "execute_result"
    },
    {
     "data": {
      "text/plain": "<Figure size 340x220 with 1 Axes>",
      "image/png": "[encoded data removed]"
     },
     "metadata": {},
     "output_type": "display_data"
    }
   ],
   "source": [
    "plt.plot(std_data_to_plot_mV.keys(), std_data_to_plot_mV.values(), 'o-', label=\"probe signal\")"
   ]
  },
  {
   "cell_type": "code",
   "execution_count": 9,
   "id": "171cfad8-355b-4f63-a588-2979bee9ec06",
   "metadata": {
    "ExecuteTime": {
     "end_time": "2023-05-22T13:35:54.035794651Z",
     "start_time": "2023-05-22T13:35:54.034578846Z"
    }
   },
   "outputs": [
    {
     "name": "stdout",
     "output_type": "stream",
     "text": [
      "dict_keys([0, 1, 2, 3, 4, 5, 6, 7, 8, 9, 10, 11, 12]) dict_values([3.2508639295347765, 1.0394170534642846, 0.8055547641463793, 0.7235330210126231, 0.7095926218008161, 0.6510637229621891, 0.6143166076452793, 0.6169434201642527, 0.6619368137757553, 0.5461788852817578, 0.5827838969380542, 0.5285320480707273, 0.5102933333857654])\n"
     ]
    }
   ],
   "source": [
    "print(std_data_to_plot_mV.keys(), std_data_to_plot_mV.values())"
   ]
  }
 ],
 "metadata": {
  "kernelspec": {
   "display_name": "Python 3 (ipykernel)",
   "language": "python",
   "name": "python3"
  },
  "language_info": {
   "codemirror_mode": {
    "name": "ipython",
    "version": 3
   },
   "file_extension": ".py",
   "mimetype": "text/x-python",
   "name": "python",
   "nbconvert_exporter": "python",
   "pygments_lexer": "ipython3",
   "version": "3.10.5"
  },
  "vscode": {
   "interpreter": {
    "hash": "11938c6bc6919ae2720b4d5011047913343b08a43b18698fd82dedb0d4417594"
   }
  }
 },
 "nbformat": 4,
 "nbformat_minor": 5
}
